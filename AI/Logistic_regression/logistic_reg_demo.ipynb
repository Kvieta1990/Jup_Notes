{
 "cells": [
  {
   "cell_type": "markdown",
   "metadata": {},
   "source": [
    "## Current notebook was generate from the lecture by Prof. N. D. Freitas. Refer to the following link for the lecture on YouTube:\n",
    "[Lecture on YouTube about logistic regression](https://www.youtube.com/watch?v=gqSuI9p089I&list=PLE6Wd9FR--Ecf_5nCbnSQMHqORpiChfJf&index=29&t=747s)"
   ]
  },
  {
   "cell_type": "code",
   "execution_count": 5,
   "metadata": {},
   "outputs": [],
   "source": [
    "from __future__ import division\n",
    "import numpy as np"
   ]
  },
  {
   "cell_type": "code",
   "execution_count": 6,
   "metadata": {},
   "outputs": [],
   "source": [
    "def logistic(a):\n",
    "    return 1.0 / (1 + np.exp(-a))\n",
    "\n",
    "\n",
    "def irls(X, y):\n",
    "    theta = np.zeros(X.shape[1])\n",
    "    theta_ = np.inf\n",
    "    while max(abs(theta - theta_)) > 1e-6:\n",
    "        a = np.dot(X, theta)\n",
    "        pi = logistic(a)\n",
    "        SX = X * (pi - pi**2).reshape(-1, 1)\n",
    "        XSX = np.dot(X.T, SX)\n",
    "        SXtheta = np.dot(SX, theta)\n",
    "        theta_ = theta\n",
    "        theta = np.linalg.solve(XSX, np.dot(X.T, SXtheta + y - pi))\n",
    "    return theta"
   ]
  },
  {
   "cell_type": "code",
   "execution_count": 7,
   "metadata": {},
   "outputs": [
    {
     "name": "stdout",
     "output_type": "stream",
     "text": [
      "Training data misclassfication rate: 0.2833\n",
      "Test data misclassfication rate: 0.3200\n"
     ]
    }
   ],
   "source": [
    "# Load example data. The data contains three aspects of students, \n",
    "# including GPA, GRE score and the rank of the universities they \n",
    "# come from. The binary output concerns whether a specific student\n",
    "# will be admitted or not. We are using logsitic regression here\n",
    "# to train our model to be able to predict whether or not a \n",
    "# student will be admitted based on the three aspects provided.\n",
    "X = np.loadtxt('admit_base.csv', delimiter=',', skiprows=1)\n",
    "\n",
    "y = X[:,0]\n",
    "X = X[:,1:]\n",
    "# Add in a constant column to the training inputs X - the bias.\n",
    "X = np.c_[np.ones(X.shape[0]), X]\n",
    "\n",
    "# Divide the whole datasets into training and test sets.\n",
    "Xtrain, Xtest = X[0:300], X[300:]\n",
    "ytrain, ytest = y[0:300], y[300:]\n",
    "\n",
    "theta = irls(Xtrain, ytrain)\n",
    "\n",
    "# Calculate the misclassfication rate for training and test sets.\n",
    "train_rate = sum((logistic(np.dot(Xtrain, theta)) > 0.5) != ytrain) / ytrain.size\n",
    "test_rate = sum((logistic(np.dot(Xtest, theta)) > 0.5) != ytest) / ytest.size\n",
    "\n",
    "print(\"Training data misclassfication rate: %.4f\" % train_rate)\n",
    "print(\"Test data misclassfication rate: %.4f\" % test_rate)"
   ]
  },
  {
   "cell_type": "code",
   "execution_count": null,
   "metadata": {},
   "outputs": [],
   "source": []
  }
 ],
 "metadata": {
  "kernelspec": {
   "display_name": "Python 3",
   "language": "python",
   "name": "python3"
  },
  "language_info": {
   "codemirror_mode": {
    "name": "ipython",
    "version": 3
   },
   "file_extension": ".py",
   "mimetype": "text/x-python",
   "name": "python",
   "nbconvert_exporter": "python",
   "pygments_lexer": "ipython3",
   "version": "3.7.3"
  }
 },
 "nbformat": 4,
 "nbformat_minor": 2
}
